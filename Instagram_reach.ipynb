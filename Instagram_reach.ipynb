{
  "cells": [
    {
      "cell_type": "markdown",
      "metadata": {
        "id": "view-in-github",
        "colab_type": "text"
      },
      "source": [
        "<a href=\"https://colab.research.google.com/github/abhay-2108/Instagram-Reach-Analysis/blob/main/Instagram_reach.ipynb\" target=\"_parent\"><img src=\"https://colab.research.google.com/assets/colab-badge.svg\" alt=\"Open In Colab\"/></a>"
      ]
    },
    {
      "cell_type": "code",
      "execution_count": null,
      "metadata": {
        "id": "bzfvJyyxCSy8"
      },
      "outputs": [],
      "source": [
        "import numpy as np\n",
        "import pandas as pd\n",
        "import matplotlib.pyplot as plt\n",
        "import seaborn as sns"
      ]
    },
    {
      "cell_type": "code",
      "execution_count": null,
      "metadata": {
        "id": "r32x3x9BCSy_"
      },
      "outputs": [],
      "source": [
        "df = pd.read_csv('./instagram_reach.csv')"
      ]
    },
    {
      "cell_type": "code",
      "execution_count": null,
      "metadata": {
        "id": "sWujU8Z9CSzA",
        "outputId": "98ff6f62-c54d-4dbe-e58c-f71244b7d173"
      },
      "outputs": [
        {
          "data": {
            "text/html": [
              "<div>\n",
              "<style scoped>\n",
              "    .dataframe tbody tr th:only-of-type {\n",
              "        vertical-align: middle;\n",
              "    }\n",
              "\n",
              "    .dataframe tbody tr th {\n",
              "        vertical-align: top;\n",
              "    }\n",
              "\n",
              "    .dataframe thead th {\n",
              "        text-align: right;\n",
              "    }\n",
              "</style>\n",
              "<table border=\"1\" class=\"dataframe\">\n",
              "  <thead>\n",
              "    <tr style=\"text-align: right;\">\n",
              "      <th></th>\n",
              "      <th>Unnamed: 0</th>\n",
              "      <th>S.No</th>\n",
              "      <th>USERNAME</th>\n",
              "      <th>Caption</th>\n",
              "      <th>Followers</th>\n",
              "      <th>Hashtags</th>\n",
              "      <th>Time since posted</th>\n",
              "      <th>Likes</th>\n",
              "    </tr>\n",
              "  </thead>\n",
              "  <tbody>\n",
              "    <tr>\n",
              "      <th>0</th>\n",
              "      <td>0</td>\n",
              "      <td>1</td>\n",
              "      <td>mikequindazzi</td>\n",
              "      <td>Who are #DataScientist and what do they do? &gt;&gt;...</td>\n",
              "      <td>1600</td>\n",
              "      <td>#MachineLearning #AI #DataAnalytics #DataScien...</td>\n",
              "      <td>11 hours</td>\n",
              "      <td>139</td>\n",
              "    </tr>\n",
              "    <tr>\n",
              "      <th>1</th>\n",
              "      <td>1</td>\n",
              "      <td>2</td>\n",
              "      <td>drgorillapaints</td>\n",
              "      <td>We all know where it’s going. We just have to ...</td>\n",
              "      <td>880</td>\n",
              "      <td>#deck .#mac #macintosh#sayhello #apple #steve...</td>\n",
              "      <td>2 hours</td>\n",
              "      <td>23</td>\n",
              "    </tr>\n",
              "    <tr>\n",
              "      <th>2</th>\n",
              "      <td>2</td>\n",
              "      <td>3</td>\n",
              "      <td>aitrading_official</td>\n",
              "      <td>Alexander Barinov: 4 years as CFO in multinati...</td>\n",
              "      <td>255</td>\n",
              "      <td>#whoiswho #aitrading #ai #aitradingteam#instat...</td>\n",
              "      <td>2 hours</td>\n",
              "      <td>25</td>\n",
              "    </tr>\n",
              "    <tr>\n",
              "      <th>3</th>\n",
              "      <td>3</td>\n",
              "      <td>4</td>\n",
              "      <td>opensourcedworkplace</td>\n",
              "      <td>sfad</td>\n",
              "      <td>340</td>\n",
              "      <td>#iot #cre#workplace #CDO #bigdata #technology#...</td>\n",
              "      <td>3 hours</td>\n",
              "      <td>49</td>\n",
              "    </tr>\n",
              "    <tr>\n",
              "      <th>4</th>\n",
              "      <td>4</td>\n",
              "      <td>5</td>\n",
              "      <td>crea.vision</td>\n",
              "      <td>Ever missed a call while your phone was chargi...</td>\n",
              "      <td>304</td>\n",
              "      <td>#instamachinelearning #instabigdata#instamarke...</td>\n",
              "      <td>3 hours</td>\n",
              "      <td>30</td>\n",
              "    </tr>\n",
              "  </tbody>\n",
              "</table>\n",
              "</div>"
            ],
            "text/plain": [
              "   Unnamed: 0  S.No              USERNAME  \\\n",
              "0           0     1         mikequindazzi   \n",
              "1           1     2       drgorillapaints   \n",
              "2           2     3    aitrading_official   \n",
              "3           3     4  opensourcedworkplace   \n",
              "4           4     5           crea.vision   \n",
              "\n",
              "                                             Caption  Followers  \\\n",
              "0  Who are #DataScientist and what do they do? >>...       1600   \n",
              "1  We all know where it’s going. We just have to ...        880   \n",
              "2  Alexander Barinov: 4 years as CFO in multinati...        255   \n",
              "3                                               sfad        340   \n",
              "4  Ever missed a call while your phone was chargi...        304   \n",
              "\n",
              "                                            Hashtags Time since posted  Likes  \n",
              "0  #MachineLearning #AI #DataAnalytics #DataScien...          11 hours    139  \n",
              "1   #deck .#mac #macintosh#sayhello #apple #steve...           2 hours     23  \n",
              "2  #whoiswho #aitrading #ai #aitradingteam#instat...           2 hours     25  \n",
              "3  #iot #cre#workplace #CDO #bigdata #technology#...           3 hours     49  \n",
              "4  #instamachinelearning #instabigdata#instamarke...           3 hours     30  "
            ]
          },
          "execution_count": 3,
          "metadata": {},
          "output_type": "execute_result"
        }
      ],
      "source": [
        "df.head()"
      ]
    },
    {
      "cell_type": "code",
      "execution_count": null,
      "metadata": {
        "id": "eFFzwZoLCSzC",
        "outputId": "3ac3c50a-5565-4e49-ef2a-53d456435ff7"
      },
      "outputs": [
        {
          "data": {
            "text/plain": [
              "(100, 8)"
            ]
          },
          "execution_count": 4,
          "metadata": {},
          "output_type": "execute_result"
        }
      ],
      "source": [
        "df.shape"
      ]
    },
    {
      "cell_type": "markdown",
      "metadata": {
        "id": "oU3hfNcSCSzC"
      },
      "source": [
        "## Data Cleaning"
      ]
    },
    {
      "cell_type": "code",
      "execution_count": null,
      "metadata": {
        "id": "9C6yZlqeCSzE",
        "outputId": "426ccd46-cc1d-4080-b4f1-475369b40d2d"
      },
      "outputs": [
        {
          "name": "stdout",
          "output_type": "stream",
          "text": [
            "<class 'pandas.core.frame.DataFrame'>\n",
            "RangeIndex: 100 entries, 0 to 99\n",
            "Data columns (total 8 columns):\n",
            " #   Column             Non-Null Count  Dtype \n",
            "---  ------             --------------  ----- \n",
            " 0   Unnamed: 0         100 non-null    int64 \n",
            " 1   S.No               100 non-null    int64 \n",
            " 2   USERNAME           100 non-null    object\n",
            " 3   Caption            94 non-null     object\n",
            " 4   Followers          100 non-null    int64 \n",
            " 5   Hashtags           100 non-null    object\n",
            " 6   Time since posted  100 non-null    object\n",
            " 7   Likes              100 non-null    int64 \n",
            "dtypes: int64(4), object(4)\n",
            "memory usage: 6.4+ KB\n"
          ]
        }
      ],
      "source": [
        "df.info()"
      ]
    },
    {
      "cell_type": "code",
      "execution_count": null,
      "metadata": {
        "id": "H7VPuHasCSzG",
        "outputId": "023eeba1-b4e9-4ed9-f8a4-d6623600fc14"
      },
      "outputs": [
        {
          "data": {
            "text/plain": [
              "Unnamed: 0           0\n",
              "S.No                 0\n",
              "USERNAME             0\n",
              "Caption              6\n",
              "Followers            0\n",
              "Hashtags             0\n",
              "Time since posted    0\n",
              "Likes                0\n",
              "dtype: int64"
            ]
          },
          "execution_count": 6,
          "metadata": {},
          "output_type": "execute_result"
        }
      ],
      "source": [
        "df.isnull().sum()"
      ]
    },
    {
      "cell_type": "code",
      "execution_count": null,
      "metadata": {
        "id": "riW94a2PCSzG",
        "outputId": "836af637-cc88-4cc7-9e0e-88739a591aca"
      },
      "outputs": [
        {
          "data": {
            "text/plain": [
              "np.int64(0)"
            ]
          },
          "execution_count": 7,
          "metadata": {},
          "output_type": "execute_result"
        }
      ],
      "source": [
        "df.duplicated().sum()"
      ]
    },
    {
      "cell_type": "code",
      "execution_count": null,
      "metadata": {
        "id": "EmY59nM2CSzH"
      },
      "outputs": [],
      "source": [
        "# create a copy of the dataframe\n",
        "data = df.copy()"
      ]
    },
    {
      "cell_type": "code",
      "execution_count": null,
      "metadata": {
        "id": "VwnVE7X9CSzH",
        "outputId": "68d67633-dcb6-4cd4-be92-fa20c3a6c721"
      },
      "outputs": [
        {
          "name": "stderr",
          "output_type": "stream",
          "text": [
            "C:\\Users\\HP\\AppData\\Local\\Temp\\ipykernel_34212\\3095171053.py:1: FutureWarning: A value is trying to be set on a copy of a DataFrame or Series through chained assignment using an inplace method.\n",
            "The behavior will change in pandas 3.0. This inplace method will never work because the intermediate object on which we are setting values always behaves as a copy.\n",
            "\n",
            "For example, when doing 'df[col].method(value, inplace=True)', try using 'df.method({col: value}, inplace=True)' or df[col] = df[col].method(value) instead, to perform the operation inplace on the original object.\n",
            "\n",
            "\n",
            "  data['Caption'].fillna('No Caption', inplace=True)\n"
          ]
        }
      ],
      "source": [
        "data['Caption'].fillna('No Caption', inplace=True)"
      ]
    },
    {
      "cell_type": "code",
      "execution_count": null,
      "metadata": {
        "id": "AlVF8A2gCSzI",
        "outputId": "deb59733-c9e9-4b42-ef10-b6ee358b06a0"
      },
      "outputs": [
        {
          "name": "stdout",
          "output_type": "stream",
          "text": [
            "<class 'pandas.core.frame.DataFrame'>\n",
            "RangeIndex: 100 entries, 0 to 99\n",
            "Data columns (total 8 columns):\n",
            " #   Column             Non-Null Count  Dtype \n",
            "---  ------             --------------  ----- \n",
            " 0   Unnamed: 0         100 non-null    int64 \n",
            " 1   S.No               100 non-null    int64 \n",
            " 2   USERNAME           100 non-null    object\n",
            " 3   Caption            100 non-null    object\n",
            " 4   Followers          100 non-null    int64 \n",
            " 5   Hashtags           100 non-null    object\n",
            " 6   Time since posted  100 non-null    object\n",
            " 7   Likes              100 non-null    int64 \n",
            "dtypes: int64(4), object(4)\n",
            "memory usage: 6.4+ KB\n"
          ]
        }
      ],
      "source": [
        "data.info()"
      ]
    },
    {
      "cell_type": "code",
      "execution_count": null,
      "metadata": {
        "id": "dIVou_7WCSzJ"
      },
      "outputs": [],
      "source": [
        "# Convert Time since posted into integer\n",
        "data['hours'] = data['Time since posted'].str.split(' ').str[0].astype(int)"
      ]
    },
    {
      "cell_type": "code",
      "execution_count": null,
      "metadata": {
        "id": "XfJiBCV-CSzJ"
      },
      "outputs": [],
      "source": [
        "data.drop('Time since posted',axis=1, inplace=True)"
      ]
    },
    {
      "cell_type": "code",
      "execution_count": null,
      "metadata": {
        "id": "Uf-CrxP4CSzJ",
        "outputId": "35246e14-d8a7-4c41-c5df-8d216a67c989"
      },
      "outputs": [
        {
          "data": {
            "text/html": [
              "<div>\n",
              "<style scoped>\n",
              "    .dataframe tbody tr th:only-of-type {\n",
              "        vertical-align: middle;\n",
              "    }\n",
              "\n",
              "    .dataframe tbody tr th {\n",
              "        vertical-align: top;\n",
              "    }\n",
              "\n",
              "    .dataframe thead th {\n",
              "        text-align: right;\n",
              "    }\n",
              "</style>\n",
              "<table border=\"1\" class=\"dataframe\">\n",
              "  <thead>\n",
              "    <tr style=\"text-align: right;\">\n",
              "      <th></th>\n",
              "      <th>Unnamed: 0</th>\n",
              "      <th>S.No</th>\n",
              "      <th>USERNAME</th>\n",
              "      <th>Caption</th>\n",
              "      <th>Followers</th>\n",
              "      <th>Hashtags</th>\n",
              "      <th>Likes</th>\n",
              "      <th>hours</th>\n",
              "    </tr>\n",
              "  </thead>\n",
              "  <tbody>\n",
              "    <tr>\n",
              "      <th>0</th>\n",
              "      <td>0</td>\n",
              "      <td>1</td>\n",
              "      <td>mikequindazzi</td>\n",
              "      <td>Who are #DataScientist and what do they do? &gt;&gt;...</td>\n",
              "      <td>1600</td>\n",
              "      <td>#MachineLearning #AI #DataAnalytics #DataScien...</td>\n",
              "      <td>139</td>\n",
              "      <td>11</td>\n",
              "    </tr>\n",
              "    <tr>\n",
              "      <th>1</th>\n",
              "      <td>1</td>\n",
              "      <td>2</td>\n",
              "      <td>drgorillapaints</td>\n",
              "      <td>We all know where it’s going. We just have to ...</td>\n",
              "      <td>880</td>\n",
              "      <td>#deck .#mac #macintosh#sayhello #apple #steve...</td>\n",
              "      <td>23</td>\n",
              "      <td>2</td>\n",
              "    </tr>\n",
              "    <tr>\n",
              "      <th>2</th>\n",
              "      <td>2</td>\n",
              "      <td>3</td>\n",
              "      <td>aitrading_official</td>\n",
              "      <td>Alexander Barinov: 4 years as CFO in multinati...</td>\n",
              "      <td>255</td>\n",
              "      <td>#whoiswho #aitrading #ai #aitradingteam#instat...</td>\n",
              "      <td>25</td>\n",
              "      <td>2</td>\n",
              "    </tr>\n",
              "    <tr>\n",
              "      <th>3</th>\n",
              "      <td>3</td>\n",
              "      <td>4</td>\n",
              "      <td>opensourcedworkplace</td>\n",
              "      <td>sfad</td>\n",
              "      <td>340</td>\n",
              "      <td>#iot #cre#workplace #CDO #bigdata #technology#...</td>\n",
              "      <td>49</td>\n",
              "      <td>3</td>\n",
              "    </tr>\n",
              "    <tr>\n",
              "      <th>4</th>\n",
              "      <td>4</td>\n",
              "      <td>5</td>\n",
              "      <td>crea.vision</td>\n",
              "      <td>Ever missed a call while your phone was chargi...</td>\n",
              "      <td>304</td>\n",
              "      <td>#instamachinelearning #instabigdata#instamarke...</td>\n",
              "      <td>30</td>\n",
              "      <td>3</td>\n",
              "    </tr>\n",
              "  </tbody>\n",
              "</table>\n",
              "</div>"
            ],
            "text/plain": [
              "   Unnamed: 0  S.No              USERNAME  \\\n",
              "0           0     1         mikequindazzi   \n",
              "1           1     2       drgorillapaints   \n",
              "2           2     3    aitrading_official   \n",
              "3           3     4  opensourcedworkplace   \n",
              "4           4     5           crea.vision   \n",
              "\n",
              "                                             Caption  Followers  \\\n",
              "0  Who are #DataScientist and what do they do? >>...       1600   \n",
              "1  We all know where it’s going. We just have to ...        880   \n",
              "2  Alexander Barinov: 4 years as CFO in multinati...        255   \n",
              "3                                               sfad        340   \n",
              "4  Ever missed a call while your phone was chargi...        304   \n",
              "\n",
              "                                            Hashtags  Likes  hours  \n",
              "0  #MachineLearning #AI #DataAnalytics #DataScien...    139     11  \n",
              "1   #deck .#mac #macintosh#sayhello #apple #steve...     23      2  \n",
              "2  #whoiswho #aitrading #ai #aitradingteam#instat...     25      2  \n",
              "3  #iot #cre#workplace #CDO #bigdata #technology#...     49      3  \n",
              "4  #instamachinelearning #instabigdata#instamarke...     30      3  "
            ]
          },
          "execution_count": 13,
          "metadata": {},
          "output_type": "execute_result"
        }
      ],
      "source": [
        "data.head()"
      ]
    },
    {
      "cell_type": "code",
      "execution_count": null,
      "metadata": {
        "id": "pof21rFVCSzK",
        "outputId": "c6181fc1-bf72-4b44-e24f-093a461604f8"
      },
      "outputs": [
        {
          "data": {
            "text/plain": [
              "Index(['Unnamed: 0', 'S.No', 'USERNAME', 'Caption', 'Followers', 'Hashtags',\n",
              "       'Likes', 'hours'],\n",
              "      dtype='object')"
            ]
          },
          "execution_count": 14,
          "metadata": {},
          "output_type": "execute_result"
        }
      ],
      "source": [
        "data.columns"
      ]
    },
    {
      "cell_type": "code",
      "execution_count": null,
      "metadata": {
        "id": "_KMSHyd5CSzK"
      },
      "outputs": [],
      "source": [
        "data.drop('Unnamed: 0',axis=1,inplace=True)"
      ]
    },
    {
      "cell_type": "code",
      "execution_count": null,
      "metadata": {
        "id": "RL0qv-wMCSzK",
        "outputId": "46c18536-4afb-4f85-8930-3ab7c5958077"
      },
      "outputs": [
        {
          "data": {
            "text/plain": [
              "Index(['S.No', 'USERNAME', 'Caption', 'Followers', 'Hashtags', 'Likes',\n",
              "       'hours'],\n",
              "      dtype='object')"
            ]
          },
          "execution_count": 16,
          "metadata": {},
          "output_type": "execute_result"
        }
      ],
      "source": [
        "data.columns"
      ]
    },
    {
      "cell_type": "code",
      "execution_count": null,
      "metadata": {
        "id": "puYVoHWPCSzL",
        "outputId": "dbdc09e6-6131-41c8-b323-9fa3275fd275"
      },
      "outputs": [
        {
          "data": {
            "text/plain": [
              "'Who are #DataScientist and what do they do? >> @MikeQuindazzi >> #MachineLearning #AI #DataAnalytics #DataScienc #DataLake >> https://buff.ly/2kYmF0s'"
            ]
          },
          "execution_count": 17,
          "metadata": {},
          "output_type": "execute_result"
        }
      ],
      "source": [
        "data['Caption'][0]"
      ]
    },
    {
      "cell_type": "code",
      "execution_count": null,
      "metadata": {
        "id": "g91O-ZUoCSzL",
        "outputId": "8c24da3f-8721-4a65-c866-2769c490feb4"
      },
      "outputs": [
        {
          "data": {
            "text/plain": [
              "'#MachineLearning #AI #DataAnalytics #DataScienc #DataLake'"
            ]
          },
          "execution_count": 18,
          "metadata": {},
          "output_type": "execute_result"
        }
      ],
      "source": [
        "data['Hashtags'][0]"
      ]
    },
    {
      "cell_type": "code",
      "execution_count": null,
      "metadata": {
        "id": "Wu2WeQtcCSzM",
        "outputId": "454c1fd7-0341-4df8-a552-26a2dccb1883"
      },
      "outputs": [
        {
          "data": {
            "image/png": "[encoded data removed]",
            "text/plain": [
              "<Figure size 1800x600 with 1 Axes>"
            ]
          },
          "metadata": {},
          "output_type": "display_data"
        }
      ],
      "source": [
        "plt.subplots(figsize=(18,6))\n",
        "sns.histplot(data['Likes'], bins=50, kde=True, color = 'g')\n",
        "plt.xlim(0,400)\n",
        "plt.show()"
      ]
    },
    {
      "cell_type": "markdown",
      "metadata": {
        "id": "DbFZs3_nCSzM"
      },
      "source": [
        "###### Most of the user has 0-50 likes and very few has 200+ likes"
      ]
    },
    {
      "cell_type": "code",
      "execution_count": null,
      "metadata": {
        "id": "H4jtJyMtCSzN",
        "outputId": "102c5fde-d2af-4cfc-fe33-7414f7ae05fa"
      },
      "outputs": [
        {
          "data": {
            "image/png": "[encoded data removed]",
            "text/plain": [
              "<Figure size 1800x600 with 1 Axes>"
            ]
          },
          "metadata": {},
          "output_type": "display_data"
        }
      ],
      "source": [
        "plt.subplots(figsize=(18,6))\n",
        "sns.scatterplot(x=\"Likes\", y='Followers', data=data,color='g')\n",
        "plt.title(\"Likes vs Followes\", weight=\"bold\",fontsize=20, pad=20)\n",
        "plt.ylabel(\"Followers\", fontsize=20)\n",
        "plt.xlabel(\"Likes\", fontsize=20)\n",
        "plt.show()"
      ]
    },
    {
      "cell_type": "code",
      "execution_count": null,
      "metadata": {
        "id": "naaHK2DdCSzN"
      },
      "outputs": [],
      "source": []
    },
    {
      "cell_type": "markdown",
      "metadata": {
        "id": "NshCped_CSzN"
      },
      "source": [
        "###### User with less followers have less likes whereas users with more followers have more likes"
      ]
    },
    {
      "cell_type": "code",
      "execution_count": null,
      "metadata": {
        "id": "_9_3sYefCSzO"
      },
      "outputs": [],
      "source": [
        "categorical_features = data.select_dtypes(include='object').columns\n",
        "numerical_features = data.select_dtypes(exclude='object').columns"
      ]
    },
    {
      "cell_type": "code",
      "execution_count": null,
      "metadata": {
        "id": "9Z_8YbdzCSzO",
        "outputId": "78d0266a-bd83-43ef-afe7-8a4b55b498c9"
      },
      "outputs": [
        {
          "name": "stdout",
          "output_type": "stream",
          "text": [
            "Index(['USERNAME', 'Caption', 'Hashtags'], dtype='object')\n",
            "Index(['S.No', 'Followers', 'Likes', 'hours'], dtype='object')\n"
          ]
        }
      ],
      "source": [
        "print(categorical_features)\n",
        "print(numerical_features)"
      ]
    },
    {
      "cell_type": "code",
      "execution_count": null,
      "metadata": {
        "id": "_hI5VO04CSzO"
      },
      "outputs": [],
      "source": [
        "numerical_features = numerical_features.drop('S.No')"
      ]
    },
    {
      "cell_type": "code",
      "execution_count": null,
      "metadata": {
        "id": "8g_6dVSbCSzP",
        "outputId": "40958c29-d6ab-45a5-a8d3-ca14496875f1"
      },
      "outputs": [
        {
          "name": "stdout",
          "output_type": "stream",
          "text": [
            "Index(['Followers', 'Likes', 'hours'], dtype='object')\n"
          ]
        }
      ],
      "source": [
        "print(numerical_features)"
      ]
    },
    {
      "cell_type": "code",
      "execution_count": null,
      "metadata": {
        "id": "f3QzUVqdCSzP",
        "outputId": "9773d93b-ba26-4930-bb4b-4dda5a96f45e"
      },
      "outputs": [
        {
          "data": {
            "image/png": "[encoded data removed]",
            "text/plain": [
              "<Figure size 1800x300 with 1 Axes>"
            ]
          },
          "metadata": {},
          "output_type": "display_data"
        },
        {
          "data": {
            "image/png": "[encoded data removed]",
            "text/plain": [
              "<Figure size 1800x300 with 1 Axes>"
            ]
          },
          "metadata": {},
          "output_type": "display_data"
        },
        {
          "data": {
            "image/png": "[encoded data removed]",
            "text/plain": [
              "<Figure size 1800x300 with 1 Axes>"
            ]
          },
          "metadata": {},
          "output_type": "display_data"
        }
      ],
      "source": [
        "# checking for outliers in the numerical columns\n",
        "for i, col in enumerate(numerical_features):\n",
        "    fig, ax = plt.subplots(figsize=(18, 3))  # Adjust the height for each subplot\n",
        "    sns.boxplot(data=data, x=col, ax=ax)\n",
        "    plt.show()"
      ]
    },
    {
      "cell_type": "code",
      "execution_count": null,
      "metadata": {
        "id": "SckYaDnNCSzQ"
      },
      "outputs": [],
      "source": [
        "# there are outliers, we use inter-quartile range to remove them\n",
        "\n",
        "def whisker(col):\n",
        "    Q1 = col.quantile(0.25)\n",
        "    Q3 = col.quantile(0.75)\n",
        "    IQR = Q3 - Q1\n",
        "    lower_whisker = Q1 - 1.5 * IQR\n",
        "    upper_whisker = Q3 + 1.5 * IQR\n",
        "    return lower_whisker, upper_whisker"
      ]
    },
    {
      "cell_type": "code",
      "execution_count": null,
      "metadata": {
        "id": "SwVybT-cCSzR"
      },
      "outputs": [],
      "source": [
        "for i in numerical_features:\n",
        "    lw, uw = whisker(data[i])\n",
        "    data[i] = np.where(data[i] < lw, lw, data[i])\n",
        "    data[i] = np.where(data[i] > uw, uw, data[i])"
      ]
    },
    {
      "cell_type": "code",
      "execution_count": null,
      "metadata": {
        "id": "mehLOCCNCSzR",
        "outputId": "54c80cc8-77a5-4170-c54c-7355dad2c3c5"
      },
      "outputs": [
        {
          "data": {
            "image/png": "[encoded data removed]",
            "text/plain": [
              "<Figure size 1800x300 with 1 Axes>"
            ]
          },
          "metadata": {},
          "output_type": "display_data"
        },
        {
          "data": {
            "image/png": "[encoded data removed]",
            "text/plain": [
              "<Figure size 1800x300 with 1 Axes>"
            ]
          },
          "metadata": {},
          "output_type": "display_data"
        },
        {
          "data": {
            "image/png": "[encoded data removed]",
            "text/plain": [
              "<Figure size 1800x300 with 1 Axes>"
            ]
          },
          "metadata": {},
          "output_type": "display_data"
        }
      ],
      "source": [
        "for i, col in enumerate(numerical_features):\n",
        "    fig, ax = plt.subplots(figsize=(18, 3))  # Adjust the height for each subplot\n",
        "    sns.boxplot(data=data, x=col, ax=ax)\n",
        "    plt.show()"
      ]
    },
    {
      "cell_type": "code",
      "execution_count": null,
      "metadata": {
        "id": "7Yc6lPKzCSzS",
        "outputId": "7deda32b-e723-4fdf-d087-78e32eb31522"
      },
      "outputs": [
        {
          "data": {
            "image/png": "[encoded data removed]",
            "text/plain": [
              "<Figure size 1800x600 with 1 Axes>"
            ]
          },
          "metadata": {},
          "output_type": "display_data"
        }
      ],
      "source": [
        "plt.subplots(figsize=(18,6))\n",
        "sns.scatterplot(x=\"Likes\", y='Followers', data=data,color='g')\n",
        "plt.title(\"Likes vs Followes\", weight=\"bold\",fontsize=20, pad=20)\n",
        "plt.ylabel(\"Followers\", fontsize=20)\n",
        "plt.xlabel(\"Likes\", fontsize=20)\n",
        "plt.show()"
      ]
    },
    {
      "cell_type": "code",
      "execution_count": null,
      "metadata": {
        "id": "HIColcibCSzT",
        "outputId": "cdf470dc-e00f-409b-fa2b-3462c0a51df8"
      },
      "outputs": [
        {
          "data": {
            "text/plain": [
              "Index(['S.No', 'USERNAME', 'Caption', 'Followers', 'Hashtags', 'Likes',\n",
              "       'hours'],\n",
              "      dtype='object')"
            ]
          },
          "execution_count": 30,
          "metadata": {},
          "output_type": "execute_result"
        }
      ],
      "source": [
        "data.columns"
      ]
    },
    {
      "cell_type": "code",
      "execution_count": null,
      "metadata": {
        "id": "c_aKi9rHCSzU"
      },
      "outputs": [],
      "source": [
        "# converting categorical columns into numerical data\n",
        "data['caption length'] = data['Caption'].apply(lambda x : len(str(x)))\n",
        "data['hashtages length'] = data['Hashtags'].apply(lambda x : len(str(x).split()))"
      ]
    },
    {
      "cell_type": "code",
      "execution_count": null,
      "metadata": {
        "id": "QteQVBSVCSzU",
        "outputId": "32f7ae22-e7c9-4c7e-a323-a10a2efb9539"
      },
      "outputs": [
        {
          "data": {
            "text/html": [
              "<div>\n",
              "<style scoped>\n",
              "    .dataframe tbody tr th:only-of-type {\n",
              "        vertical-align: middle;\n",
              "    }\n",
              "\n",
              "    .dataframe tbody tr th {\n",
              "        vertical-align: top;\n",
              "    }\n",
              "\n",
              "    .dataframe thead th {\n",
              "        text-align: right;\n",
              "    }\n",
              "</style>\n",
              "<table border=\"1\" class=\"dataframe\">\n",
              "  <thead>\n",
              "    <tr style=\"text-align: right;\">\n",
              "      <th></th>\n",
              "      <th>S.No</th>\n",
              "      <th>USERNAME</th>\n",
              "      <th>Caption</th>\n",
              "      <th>Followers</th>\n",
              "      <th>Hashtags</th>\n",
              "      <th>Likes</th>\n",
              "      <th>hours</th>\n",
              "      <th>caption length</th>\n",
              "      <th>hashtages length</th>\n",
              "    </tr>\n",
              "  </thead>\n",
              "  <tbody>\n",
              "    <tr>\n",
              "      <th>0</th>\n",
              "      <td>1</td>\n",
              "      <td>mikequindazzi</td>\n",
              "      <td>Who are #DataScientist and what do they do? &gt;&gt;...</td>\n",
              "      <td>1600.0</td>\n",
              "      <td>#MachineLearning #AI #DataAnalytics #DataScien...</td>\n",
              "      <td>86.5</td>\n",
              "      <td>4.5</td>\n",
              "      <td>149</td>\n",
              "      <td>5</td>\n",
              "    </tr>\n",
              "    <tr>\n",
              "      <th>1</th>\n",
              "      <td>2</td>\n",
              "      <td>drgorillapaints</td>\n",
              "      <td>We all know where it’s going. We just have to ...</td>\n",
              "      <td>880.0</td>\n",
              "      <td>#deck .#mac #macintosh#sayhello #apple #steve...</td>\n",
              "      <td>23.0</td>\n",
              "      <td>2.0</td>\n",
              "      <td>454</td>\n",
              "      <td>19</td>\n",
              "    </tr>\n",
              "    <tr>\n",
              "      <th>2</th>\n",
              "      <td>3</td>\n",
              "      <td>aitrading_official</td>\n",
              "      <td>Alexander Barinov: 4 years as CFO in multinati...</td>\n",
              "      <td>255.0</td>\n",
              "      <td>#whoiswho #aitrading #ai #aitradingteam#instat...</td>\n",
              "      <td>25.0</td>\n",
              "      <td>2.0</td>\n",
              "      <td>704</td>\n",
              "      <td>20</td>\n",
              "    </tr>\n",
              "    <tr>\n",
              "      <th>3</th>\n",
              "      <td>4</td>\n",
              "      <td>opensourcedworkplace</td>\n",
              "      <td>sfad</td>\n",
              "      <td>340.0</td>\n",
              "      <td>#iot #cre#workplace #CDO #bigdata #technology#...</td>\n",
              "      <td>49.0</td>\n",
              "      <td>3.0</td>\n",
              "      <td>4</td>\n",
              "      <td>20</td>\n",
              "    </tr>\n",
              "    <tr>\n",
              "      <th>4</th>\n",
              "      <td>5</td>\n",
              "      <td>crea.vision</td>\n",
              "      <td>Ever missed a call while your phone was chargi...</td>\n",
              "      <td>304.0</td>\n",
              "      <td>#instamachinelearning #instabigdata#instamarke...</td>\n",
              "      <td>30.0</td>\n",
              "      <td>3.0</td>\n",
              "      <td>322</td>\n",
              "      <td>18</td>\n",
              "    </tr>\n",
              "  </tbody>\n",
              "</table>\n",
              "</div>"
            ],
            "text/plain": [
              "   S.No              USERNAME  \\\n",
              "0     1         mikequindazzi   \n",
              "1     2       drgorillapaints   \n",
              "2     3    aitrading_official   \n",
              "3     4  opensourcedworkplace   \n",
              "4     5           crea.vision   \n",
              "\n",
              "                                             Caption  Followers  \\\n",
              "0  Who are #DataScientist and what do they do? >>...     1600.0   \n",
              "1  We all know where it’s going. We just have to ...      880.0   \n",
              "2  Alexander Barinov: 4 years as CFO in multinati...      255.0   \n",
              "3                                               sfad      340.0   \n",
              "4  Ever missed a call while your phone was chargi...      304.0   \n",
              "\n",
              "                                            Hashtags  Likes  hours  \\\n",
              "0  #MachineLearning #AI #DataAnalytics #DataScien...   86.5    4.5   \n",
              "1   #deck .#mac #macintosh#sayhello #apple #steve...   23.0    2.0   \n",
              "2  #whoiswho #aitrading #ai #aitradingteam#instat...   25.0    2.0   \n",
              "3  #iot #cre#workplace #CDO #bigdata #technology#...   49.0    3.0   \n",
              "4  #instamachinelearning #instabigdata#instamarke...   30.0    3.0   \n",
              "\n",
              "   caption length  hashtages length  \n",
              "0             149                 5  \n",
              "1             454                19  \n",
              "2             704                20  \n",
              "3               4                20  \n",
              "4             322                18  "
            ]
          },
          "execution_count": 32,
          "metadata": {},
          "output_type": "execute_result"
        }
      ],
      "source": [
        "data.head()"
      ]
    },
    {
      "cell_type": "code",
      "execution_count": null,
      "metadata": {
        "id": "140RvmwJCSzV"
      },
      "outputs": [],
      "source": [
        "data.drop(['Caption','Hashtags','S.No'],axis=1,inplace=True)"
      ]
    },
    {
      "cell_type": "code",
      "execution_count": null,
      "metadata": {
        "id": "-cSMgc9GCSzV",
        "outputId": "cb1c34e2-ca79-4c65-fff1-3324ea418109"
      },
      "outputs": [
        {
          "data": {
            "text/html": [
              "<div>\n",
              "<style scoped>\n",
              "    .dataframe tbody tr th:only-of-type {\n",
              "        vertical-align: middle;\n",
              "    }\n",
              "\n",
              "    .dataframe tbody tr th {\n",
              "        vertical-align: top;\n",
              "    }\n",
              "\n",
              "    .dataframe thead th {\n",
              "        text-align: right;\n",
              "    }\n",
              "</style>\n",
              "<table border=\"1\" class=\"dataframe\">\n",
              "  <thead>\n",
              "    <tr style=\"text-align: right;\">\n",
              "      <th></th>\n",
              "      <th>USERNAME</th>\n",
              "      <th>Followers</th>\n",
              "      <th>Likes</th>\n",
              "      <th>hours</th>\n",
              "      <th>caption length</th>\n",
              "      <th>hashtages length</th>\n",
              "    </tr>\n",
              "  </thead>\n",
              "  <tbody>\n",
              "    <tr>\n",
              "      <th>0</th>\n",
              "      <td>mikequindazzi</td>\n",
              "      <td>1600.0</td>\n",
              "      <td>86.5</td>\n",
              "      <td>4.5</td>\n",
              "      <td>149</td>\n",
              "      <td>5</td>\n",
              "    </tr>\n",
              "    <tr>\n",
              "      <th>1</th>\n",
              "      <td>drgorillapaints</td>\n",
              "      <td>880.0</td>\n",
              "      <td>23.0</td>\n",
              "      <td>2.0</td>\n",
              "      <td>454</td>\n",
              "      <td>19</td>\n",
              "    </tr>\n",
              "    <tr>\n",
              "      <th>2</th>\n",
              "      <td>aitrading_official</td>\n",
              "      <td>255.0</td>\n",
              "      <td>25.0</td>\n",
              "      <td>2.0</td>\n",
              "      <td>704</td>\n",
              "      <td>20</td>\n",
              "    </tr>\n",
              "    <tr>\n",
              "      <th>3</th>\n",
              "      <td>opensourcedworkplace</td>\n",
              "      <td>340.0</td>\n",
              "      <td>49.0</td>\n",
              "      <td>3.0</td>\n",
              "      <td>4</td>\n",
              "      <td>20</td>\n",
              "    </tr>\n",
              "    <tr>\n",
              "      <th>4</th>\n",
              "      <td>crea.vision</td>\n",
              "      <td>304.0</td>\n",
              "      <td>30.0</td>\n",
              "      <td>3.0</td>\n",
              "      <td>322</td>\n",
              "      <td>18</td>\n",
              "    </tr>\n",
              "  </tbody>\n",
              "</table>\n",
              "</div>"
            ],
            "text/plain": [
              "               USERNAME  Followers  Likes  hours  caption length  \\\n",
              "0         mikequindazzi     1600.0   86.5    4.5             149   \n",
              "1       drgorillapaints      880.0   23.0    2.0             454   \n",
              "2    aitrading_official      255.0   25.0    2.0             704   \n",
              "3  opensourcedworkplace      340.0   49.0    3.0               4   \n",
              "4           crea.vision      304.0   30.0    3.0             322   \n",
              "\n",
              "   hashtages length  \n",
              "0                 5  \n",
              "1                19  \n",
              "2                20  \n",
              "3                20  \n",
              "4                18  "
            ]
          },
          "execution_count": 34,
          "metadata": {},
          "output_type": "execute_result"
        }
      ],
      "source": [
        "data.head()"
      ]
    },
    {
      "cell_type": "code",
      "execution_count": null,
      "metadata": {
        "id": "DzSDXfH1CSzW"
      },
      "outputs": [],
      "source": [
        "from sklearn.preprocessing import LabelEncoder\n",
        "le = LabelEncoder()"
      ]
    },
    {
      "cell_type": "code",
      "execution_count": null,
      "metadata": {
        "id": "HGDgFrNPCSzq"
      },
      "outputs": [],
      "source": [
        "data['USERNAME'] = le.fit_transform(data['USERNAME'])"
      ]
    },
    {
      "cell_type": "code",
      "execution_count": null,
      "metadata": {
        "id": "nQXvzqejCSzq",
        "outputId": "c55a84c8-3430-4f34-c407-7d11ceda8b2b"
      },
      "outputs": [
        {
          "data": {
            "text/html": [
              "<div>\n",
              "<style scoped>\n",
              "    .dataframe tbody tr th:only-of-type {\n",
              "        vertical-align: middle;\n",
              "    }\n",
              "\n",
              "    .dataframe tbody tr th {\n",
              "        vertical-align: top;\n",
              "    }\n",
              "\n",
              "    .dataframe thead th {\n",
              "        text-align: right;\n",
              "    }\n",
              "</style>\n",
              "<table border=\"1\" class=\"dataframe\">\n",
              "  <thead>\n",
              "    <tr style=\"text-align: right;\">\n",
              "      <th></th>\n",
              "      <th>USERNAME</th>\n",
              "      <th>Followers</th>\n",
              "      <th>Likes</th>\n",
              "      <th>hours</th>\n",
              "      <th>caption length</th>\n",
              "      <th>hashtages length</th>\n",
              "    </tr>\n",
              "  </thead>\n",
              "  <tbody>\n",
              "    <tr>\n",
              "      <th>0</th>\n",
              "      <td>64</td>\n",
              "      <td>1600.0</td>\n",
              "      <td>86.5</td>\n",
              "      <td>4.5</td>\n",
              "      <td>149</td>\n",
              "      <td>5</td>\n",
              "    </tr>\n",
              "    <tr>\n",
              "      <th>1</th>\n",
              "      <td>29</td>\n",
              "      <td>880.0</td>\n",
              "      <td>23.0</td>\n",
              "      <td>2.0</td>\n",
              "      <td>454</td>\n",
              "      <td>19</td>\n",
              "    </tr>\n",
              "    <tr>\n",
              "      <th>2</th>\n",
              "      <td>3</td>\n",
              "      <td>255.0</td>\n",
              "      <td>25.0</td>\n",
              "      <td>2.0</td>\n",
              "      <td>704</td>\n",
              "      <td>20</td>\n",
              "    </tr>\n",
              "    <tr>\n",
              "      <th>3</th>\n",
              "      <td>71</td>\n",
              "      <td>340.0</td>\n",
              "      <td>49.0</td>\n",
              "      <td>3.0</td>\n",
              "      <td>4</td>\n",
              "      <td>20</td>\n",
              "    </tr>\n",
              "    <tr>\n",
              "      <th>4</th>\n",
              "      <td>23</td>\n",
              "      <td>304.0</td>\n",
              "      <td>30.0</td>\n",
              "      <td>3.0</td>\n",
              "      <td>322</td>\n",
              "      <td>18</td>\n",
              "    </tr>\n",
              "  </tbody>\n",
              "</table>\n",
              "</div>"
            ],
            "text/plain": [
              "   USERNAME  Followers  Likes  hours  caption length  hashtages length\n",
              "0        64     1600.0   86.5    4.5             149                 5\n",
              "1        29      880.0   23.0    2.0             454                19\n",
              "2         3      255.0   25.0    2.0             704                20\n",
              "3        71      340.0   49.0    3.0               4                20\n",
              "4        23      304.0   30.0    3.0             322                18"
            ]
          },
          "execution_count": 37,
          "metadata": {},
          "output_type": "execute_result"
        }
      ],
      "source": [
        "data.head()"
      ]
    },
    {
      "cell_type": "code",
      "execution_count": null,
      "metadata": {
        "id": "8aibbcJxCSzr",
        "outputId": "381ba185-3923-43ea-955b-d86b8826f8be"
      },
      "outputs": [
        {
          "data": {
            "text/html": [
              "<div>\n",
              "<style scoped>\n",
              "    .dataframe tbody tr th:only-of-type {\n",
              "        vertical-align: middle;\n",
              "    }\n",
              "\n",
              "    .dataframe tbody tr th {\n",
              "        vertical-align: top;\n",
              "    }\n",
              "\n",
              "    .dataframe thead th {\n",
              "        text-align: right;\n",
              "    }\n",
              "</style>\n",
              "<table border=\"1\" class=\"dataframe\">\n",
              "  <thead>\n",
              "    <tr style=\"text-align: right;\">\n",
              "      <th></th>\n",
              "      <th>USERNAME</th>\n",
              "      <th>Followers</th>\n",
              "      <th>Likes</th>\n",
              "      <th>hours</th>\n",
              "      <th>caption length</th>\n",
              "      <th>hashtages length</th>\n",
              "    </tr>\n",
              "  </thead>\n",
              "  <tbody>\n",
              "    <tr>\n",
              "      <th>USERNAME</th>\n",
              "      <td>1.000000</td>\n",
              "      <td>0.069132</td>\n",
              "      <td>0.062067</td>\n",
              "      <td>0.015133</td>\n",
              "      <td>-0.225388</td>\n",
              "      <td>-0.078367</td>\n",
              "    </tr>\n",
              "    <tr>\n",
              "      <th>Followers</th>\n",
              "      <td>0.069132</td>\n",
              "      <td>1.000000</td>\n",
              "      <td>0.308633</td>\n",
              "      <td>0.184224</td>\n",
              "      <td>-0.065011</td>\n",
              "      <td>-0.031918</td>\n",
              "    </tr>\n",
              "    <tr>\n",
              "      <th>Likes</th>\n",
              "      <td>0.062067</td>\n",
              "      <td>0.308633</td>\n",
              "      <td>1.000000</td>\n",
              "      <td>0.417261</td>\n",
              "      <td>-0.133486</td>\n",
              "      <td>-0.012174</td>\n",
              "    </tr>\n",
              "    <tr>\n",
              "      <th>hours</th>\n",
              "      <td>0.015133</td>\n",
              "      <td>0.184224</td>\n",
              "      <td>0.417261</td>\n",
              "      <td>1.000000</td>\n",
              "      <td>-0.044611</td>\n",
              "      <td>-0.031855</td>\n",
              "    </tr>\n",
              "    <tr>\n",
              "      <th>caption length</th>\n",
              "      <td>-0.225388</td>\n",
              "      <td>-0.065011</td>\n",
              "      <td>-0.133486</td>\n",
              "      <td>-0.044611</td>\n",
              "      <td>1.000000</td>\n",
              "      <td>0.083426</td>\n",
              "    </tr>\n",
              "    <tr>\n",
              "      <th>hashtages length</th>\n",
              "      <td>-0.078367</td>\n",
              "      <td>-0.031918</td>\n",
              "      <td>-0.012174</td>\n",
              "      <td>-0.031855</td>\n",
              "      <td>0.083426</td>\n",
              "      <td>1.000000</td>\n",
              "    </tr>\n",
              "  </tbody>\n",
              "</table>\n",
              "</div>"
            ],
            "text/plain": [
              "                  USERNAME  Followers     Likes     hours  caption length  \\\n",
              "USERNAME          1.000000   0.069132  0.062067  0.015133       -0.225388   \n",
              "Followers         0.069132   1.000000  0.308633  0.184224       -0.065011   \n",
              "Likes             0.062067   0.308633  1.000000  0.417261       -0.133486   \n",
              "hours             0.015133   0.184224  0.417261  1.000000       -0.044611   \n",
              "caption length   -0.225388  -0.065011 -0.133486 -0.044611        1.000000   \n",
              "hashtages length -0.078367  -0.031918 -0.012174 -0.031855        0.083426   \n",
              "\n",
              "                  hashtages length  \n",
              "USERNAME                 -0.078367  \n",
              "Followers                -0.031918  \n",
              "Likes                    -0.012174  \n",
              "hours                    -0.031855  \n",
              "caption length            0.083426  \n",
              "hashtages length          1.000000  "
            ]
          },
          "execution_count": 38,
          "metadata": {},
          "output_type": "execute_result"
        }
      ],
      "source": [
        "data.corr()"
      ]
    },
    {
      "cell_type": "code",
      "execution_count": null,
      "metadata": {
        "id": "UhJVOqCDCSzr",
        "outputId": "826efdbb-1e76-4801-c642-94ee2072cde5"
      },
      "outputs": [
        {
          "data": {
            "text/plain": [
              "<Axes: >"
            ]
          },
          "execution_count": 39,
          "metadata": {},
          "output_type": "execute_result"
        },
        {
          "data": {
            "image/png": "[encoded data removed]",
            "text/plain": [
              "<Figure size 1000x500 with 2 Axes>"
            ]
          },
          "metadata": {},
          "output_type": "display_data"
        }
      ],
      "source": [
        "plt.figure(figsize=(10, 5))\n",
        "sns.heatmap(data.corr(), annot=True, fmt='.2f', linewidths=0.5)"
      ]
    },
    {
      "cell_type": "markdown",
      "metadata": {
        "id": "dPaLamTSCSzs"
      },
      "source": [
        "### Model Building"
      ]
    },
    {
      "cell_type": "code",
      "execution_count": null,
      "metadata": {
        "id": "6t0hkC_qCSzs"
      },
      "outputs": [],
      "source": [
        "from sklearn.model_selection import train_test_split\n",
        "from sklearn.metrics import r2_score, root_mean_squared_error,mean_absolute_error\n"
      ]
    },
    {
      "cell_type": "code",
      "execution_count": null,
      "metadata": {
        "id": "mxxbMAD6CSzt"
      },
      "outputs": [],
      "source": [
        "X = data[['Followers','caption length','hashtages length']]\n",
        "y = data[['Likes','hours']]\n",
        "X_train,X_test, y_train,y_test = train_test_split(X,y,test_size=0.25,random_state=42)"
      ]
    },
    {
      "cell_type": "code",
      "execution_count": null,
      "metadata": {
        "id": "ZnKW5J7tCSzt"
      },
      "outputs": [],
      "source": [
        "#Standardize the dataset\n",
        "from sklearn.preprocessing import StandardScaler\n",
        "scaler = StandardScaler()\n",
        "\n",
        "X_train = scaler.fit_transform(X_train)\n",
        "X_test = scaler.fit_transform(X_test)"
      ]
    },
    {
      "cell_type": "code",
      "execution_count": null,
      "metadata": {
        "id": "t6HOSS9ZCSzu"
      },
      "outputs": [],
      "source": [
        "from sklearn.linear_model import LinearRegression\n",
        "from sklearn.tree import DecisionTreeRegressor\n",
        "from sklearn.neighbors import KNeighborsRegressor\n",
        "from sklearn.ensemble import RandomForestRegressor\n",
        "from sklearn.ensemble import BaggingRegressor\n",
        "from sklearn.ensemble import ExtraTreesRegressor\n",
        "!pip install xgboost\n",
        "from xgboost import XGBRegressor"
      ]
    },
    {
      "cell_type": "code",
      "execution_count": null,
      "metadata": {
        "id": "Hcu-DIzFCSzu"
      },
      "outputs": [],
      "source": [
        "lr = LinearRegression()\n",
        "knr = KNeighborsRegressor()\n",
        "dtr = DecisionTreeRegressor(max_depth=5)\n",
        "rfr = RandomForestRegressor(n_estimators=50, random_state=2)\n",
        "br = BaggingRegressor(n_estimators=50, random_state=2)\n",
        "etr = ExtraTreesRegressor(n_estimators=50, random_state=2)\n",
        "xgb = XGBRegressor(n_estimators=50, random_state=2)"
      ]
    },
    {
      "cell_type": "code",
      "execution_count": null,
      "metadata": {
        "id": "BDwY-ILrCSzv"
      },
      "outputs": [],
      "source": [
        "regressor = {\n",
        "    'LR' : lr,\n",
        "    'KN' : knr,\n",
        "    'DT': dtr,\n",
        "    'RF': rfr,\n",
        "    'BgR': br,\n",
        "    'ETR': etr,\n",
        "    'xgb':xgb\n",
        "}"
      ]
    },
    {
      "cell_type": "code",
      "execution_count": null,
      "metadata": {
        "id": "X82FsGRPCSzv"
      },
      "outputs": [],
      "source": [
        "def train_regressor(reg, X_train, X_test, y_train, y_test):\n",
        "    reg.fit(X_train, y_train)\n",
        "    y_pred = reg.predict(X_test)\n",
        "    root_mean = root_mean_squared_error(y_test, y_pred)\n",
        "    r2 = r2_score(y_test, y_pred)\n",
        "    absolute = mean_absolute_error(y_pred,y_test)\n",
        "    return root_mean, r2,absolute"
      ]
    },
    {
      "cell_type": "code",
      "execution_count": null,
      "metadata": {
        "id": "Qx_7h2WACSzv",
        "outputId": "ae557611-d870-45d0-a33b-06f3d4d3f489"
      },
      "outputs": [
        {
          "data": {
            "text/plain": [
              "(10.402316093444824, 0.12203934788703918, 6.9954657554626465)"
            ]
          },
          "execution_count": 49,
          "metadata": {},
          "output_type": "execute_result"
        }
      ],
      "source": [
        "train_regressor(xgb,X_train, X_test, y_train, y_test)"
      ]
    },
    {
      "cell_type": "code",
      "execution_count": null,
      "metadata": {
        "id": "4I7K9U9HCSzw",
        "outputId": "8812d039-8cda-4181-b0be-f40d676e1a37"
      },
      "outputs": [
        {
          "name": "stdout",
          "output_type": "stream",
          "text": [
            "LR root mean error is 12.155968065201922\n",
            "LR r2 score is 0.08502865481319188\n",
            "LR mean absolute error is 9.231543505090874\n",
            "KN root mean error is 12.923477304273474\n",
            "KN r2 score is 0.07198030871112787\n",
            "KN mean absolute error is 10.073999999999998\n",
            "DT root mean error is 10.451890687796281\n",
            "DT r2 score is 0.05834873569067223\n",
            "DT mean absolute error is 6.661764705882353\n",
            "RF root mean error is 10.64516025781502\n",
            "RF r2 score is 0.11249095779629581\n",
            "RF mean absolute error is 7.792999999999999\n",
            "BgR root mean error is 10.814607461747265\n",
            "BgR r2 score is 0.09760133675331628\n",
            "BgR mean absolute error is 7.883399999999999\n",
            "ETR root mean error is 10.551329151158223\n",
            "ETR r2 score is 0.11137153274476191\n",
            "ETR mean absolute error is 8.1794\n",
            "xgb root mean error is 10.402316093444824\n",
            "xgb r2 score is 0.12203934788703918\n",
            "xgb mean absolute error is 6.9954657554626465\n"
          ]
        }
      ],
      "source": [
        "root_mean_error = []\n",
        "r2_error_score = []\n",
        "mean_absolute = []\n",
        "for name, reg in regressor.items():\n",
        "    current_root, current_r2, current_absolute = train_regressor(reg, X_train, X_test, y_train, y_test)\n",
        "    print(f'{name} root mean error is {current_root}')\n",
        "    print(f'{name} r2 score is {current_r2}')\n",
        "    print(f'{name} mean absolute error is {current_absolute}')\n",
        "    root_mean_error.append(current_root)\n",
        "    r2_error_score.append(current_r2)\n",
        "    mean_absolute.append(current_absolute)"
      ]
    },
    {
      "cell_type": "code",
      "execution_count": null,
      "metadata": {
        "id": "O5EewKbBCSzx"
      },
      "outputs": [],
      "source": [
        "performance_df = pd.DataFrame({'Algorithm' : regressor.keys(),'Root Mean Error' : root_mean_error, 'R2 Score': r2_error_score, 'Mean Absolute Error' : mean_absolute}).sort_values('Root Mean Error',ascending=False)"
      ]
    },
    {
      "cell_type": "code",
      "execution_count": null,
      "metadata": {
        "id": "YO6pX_vTCSzx",
        "outputId": "d4dd8e21-9a0f-4121-b320-1b490de28fe1"
      },
      "outputs": [
        {
          "data": {
            "text/html": [
              "<div>\n",
              "<style scoped>\n",
              "    .dataframe tbody tr th:only-of-type {\n",
              "        vertical-align: middle;\n",
              "    }\n",
              "\n",
              "    .dataframe tbody tr th {\n",
              "        vertical-align: top;\n",
              "    }\n",
              "\n",
              "    .dataframe thead th {\n",
              "        text-align: right;\n",
              "    }\n",
              "</style>\n",
              "<table border=\"1\" class=\"dataframe\">\n",
              "  <thead>\n",
              "    <tr style=\"text-align: right;\">\n",
              "      <th></th>\n",
              "      <th>Algorithm</th>\n",
              "      <th>Root Mean Error</th>\n",
              "      <th>R2 Score</th>\n",
              "      <th>Mean Absolute Error</th>\n",
              "    </tr>\n",
              "  </thead>\n",
              "  <tbody>\n",
              "    <tr>\n",
              "      <th>1</th>\n",
              "      <td>KN</td>\n",
              "      <td>12.923477</td>\n",
              "      <td>0.071980</td>\n",
              "      <td>10.074000</td>\n",
              "    </tr>\n",
              "    <tr>\n",
              "      <th>0</th>\n",
              "      <td>LR</td>\n",
              "      <td>12.155968</td>\n",
              "      <td>0.085029</td>\n",
              "      <td>9.231544</td>\n",
              "    </tr>\n",
              "    <tr>\n",
              "      <th>4</th>\n",
              "      <td>BgR</td>\n",
              "      <td>10.814607</td>\n",
              "      <td>0.097601</td>\n",
              "      <td>7.883400</td>\n",
              "    </tr>\n",
              "    <tr>\n",
              "      <th>3</th>\n",
              "      <td>RF</td>\n",
              "      <td>10.645160</td>\n",
              "      <td>0.112491</td>\n",
              "      <td>7.793000</td>\n",
              "    </tr>\n",
              "    <tr>\n",
              "      <th>5</th>\n",
              "      <td>ETR</td>\n",
              "      <td>10.551329</td>\n",
              "      <td>0.111372</td>\n",
              "      <td>8.179400</td>\n",
              "    </tr>\n",
              "    <tr>\n",
              "      <th>2</th>\n",
              "      <td>DT</td>\n",
              "      <td>10.451891</td>\n",
              "      <td>0.058349</td>\n",
              "      <td>6.661765</td>\n",
              "    </tr>\n",
              "    <tr>\n",
              "      <th>6</th>\n",
              "      <td>xgb</td>\n",
              "      <td>10.402316</td>\n",
              "      <td>0.122039</td>\n",
              "      <td>6.995466</td>\n",
              "    </tr>\n",
              "  </tbody>\n",
              "</table>\n",
              "</div>"
            ],
            "text/plain": [
              "  Algorithm  Root Mean Error  R2 Score  Mean Absolute Error\n",
              "1        KN        12.923477  0.071980            10.074000\n",
              "0        LR        12.155968  0.085029             9.231544\n",
              "4       BgR        10.814607  0.097601             7.883400\n",
              "3        RF        10.645160  0.112491             7.793000\n",
              "5       ETR        10.551329  0.111372             8.179400\n",
              "2        DT        10.451891  0.058349             6.661765\n",
              "6       xgb        10.402316  0.122039             6.995466"
            ]
          },
          "execution_count": 52,
          "metadata": {},
          "output_type": "execute_result"
        }
      ],
      "source": [
        "performance_df"
      ]
    },
    {
      "cell_type": "markdown",
      "metadata": {
        "id": "bFXwHhxYCSzx"
      },
      "source": [
        "XGBoost (xgb) is the best algorithm among the ones listed."
      ]
    },
    {
      "cell_type": "code",
      "execution_count": null,
      "metadata": {
        "id": "Awz1NGZqCSzy",
        "outputId": "0472dc32-99a2-43df-b2a4-da05156a1cdc"
      },
      "outputs": [
        {
          "data": {
            "image/png": "[encoded data removed]",
            "text/plain": [
              "<Figure size 640x480 with 1 Axes>"
            ]
          },
          "metadata": {},
          "output_type": "display_data"
        }
      ],
      "source": [
        "sns.scatterplot(x='Algorithm', y='Root Mean Error', data=performance_df)\n",
        "plt.xticks(rotation=45)\n",
        "plt.show()"
      ]
    },
    {
      "cell_type": "markdown",
      "metadata": {
        "id": "4By2KrUnCSzy"
      },
      "source": [
        "###### Decision Tree has minimum error among all Algorithms"
      ]
    },
    {
      "cell_type": "code",
      "execution_count": null,
      "metadata": {
        "id": "9Sh3Sui9CSzz",
        "outputId": "ac9d7e3b-7bbf-4620-a6d8-932b645d1252"
      },
      "outputs": [
        {
          "data": {
            "image/png": "[encoded data removed]",
            "text/plain": [
              "<Figure size 640x480 with 1 Axes>"
            ]
          },
          "metadata": {},
          "output_type": "display_data"
        }
      ],
      "source": [
        "sns.barplot(x='Algorithm', y='Root Mean Error', data=performance_df)\n",
        "plt.xticks(rotation='vertical')\n",
        "plt.show()"
      ]
    },
    {
      "cell_type": "code",
      "execution_count": null,
      "metadata": {
        "id": "dJnX2b4TCSzz",
        "outputId": "75c290d5-90da-42c6-8b85-d89e18e198c5"
      },
      "outputs": [
        {
          "name": "stdout",
          "output_type": "stream",
          "text": [
            "XGBRegressor(base_score=None, booster=None, callbacks=None,\n",
            "             colsample_bylevel=None, colsample_bynode=None,\n",
            "             colsample_bytree=None, device=None, early_stopping_rounds=None,\n",
            "             enable_categorical=False, eval_metric=None, feature_types=None,\n",
            "             feature_weights=None, gamma=None, grow_policy=None,\n",
            "             importance_type=None, interaction_constraints=None,\n",
            "             learning_rate=None, max_bin=None, max_cat_threshold=None,\n",
            "             max_cat_to_onehot=None, max_delta_step=None, max_depth=None,\n",
            "             max_leaves=None, min_child_weight=None, missing=nan,\n",
            "             monotone_constraints=None, multi_strategy=None, n_estimators=50,\n",
            "             n_jobs=None, num_parallel_tree=None, ...)\n"
          ]
        }
      ],
      "source": [
        "import pickle\n",
        "\n",
        "# Identify the best model based on the lowest Root Mean Error\n",
        "best_model_name = performance_df.loc[performance_df['Root Mean Error'].idxmin(), 'Algorithm']\n",
        "best_model = regressor[best_model_name]\n",
        "print(best_model)\n",
        "\n",
        "with open('instagram.pkl', 'wb') as file:\n",
        "    pickle.dump(best_model, file)"
      ]
    },
    {
      "cell_type": "code",
      "execution_count": null,
      "metadata": {
        "id": "VVZBy59QCSz0"
      },
      "outputs": [],
      "source": []
    }
  ],
  "metadata": {
    "kernelspec": {
      "display_name": "Python 3",
      "language": "python",
      "name": "python3"
    },
    "language_info": {
      "codemirror_mode": {
        "name": "ipython",
        "version": 3
      },
      "file_extension": ".py",
      "mimetype": "text/x-python",
      "name": "python",
      "nbconvert_exporter": "python",
      "pygments_lexer": "ipython3",
      "version": "3.10.11"
    },
    "colab": {
      "provenance": [],
      "include_colab_link": true
    }
  },
  "nbformat": 4,
  "nbformat_minor": 0
}